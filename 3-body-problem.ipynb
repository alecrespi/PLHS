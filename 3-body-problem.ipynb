{
 "cells": [
  {
   "cell_type": "code",
   "execution_count": 1,
   "metadata": {},
   "outputs": [],
   "source": [
    "import numpy as np\n",
    "from src.eLHS import SampleSet\n",
    "from scipy.integrate import solve_ivp \n",
    "import matplotlib.pyplot as plt"
   ]
  },
  {
   "cell_type": "code",
   "execution_count": 2,
   "metadata": {},
   "outputs": [],
   "source": [
    "def Planets(t, y):\n",
    "    f = np.zeros(12)\n",
    "    f[0] = y[6]\n",
    "    f[1] = y[7]\n",
    "    f[2] = y[8]\n",
    "    f[3] = y[9]\n",
    "    f[4] = y[10]\n",
    "    f[5] = y[11]\n",
    "    \n",
    "    f[6] = -(y[0]-y[2])/(((y[0]-y[2])**2+(y[1]-y[3])**2)**(3/2)) \\\n",
    "           -(y[0]-y[4])/(((y[0]-y[4])**2+(y[1]-y[5])**2)**(3/2))\n",
    "           \n",
    "    f[7] = -(y[1]-y[3])/(((y[0]-y[2])**2+(y[1]-y[3])**2)**(3/2)) \\\n",
    "           -(y[1]-y[5])/(((y[0]-y[4])**2+(y[1]-y[5])**2)**(3/2))\n",
    "                     \n",
    "    f[8] = -(y[2]-y[0])/(((y[2]-y[0])**2+(y[3]-y[1])**2)**(3/2)) \\\n",
    "           -(y[2]-y[4])/(((y[2]-y[4])**2+(y[3]-y[5])**2)**(3/2))\n",
    "           \n",
    "    f[9] = -(y[3]-y[1])/(((y[2]-y[0])**2+(y[3]-y[1])**2)**(3/2)) \\\n",
    "           -(y[3]-y[5])/(((y[2]-y[4])**2+(y[3]-y[5])**2)**(3/2))\n",
    "                     \n",
    "    f[10]= -(y[4]-y[0])/(((y[4]-y[0])**2+(y[5]-y[1])**2)**(3/2)) \\\n",
    "           -(y[4]-y[2])/(((y[4]-y[2])**2+(y[5]-y[3])**2)**(3/2))\n",
    "          \n",
    "    f[11]= -(y[5]-y[1])/(((y[4]-y[0])**2+(y[5]-y[1])**2)**(3/2)) \\\n",
    "           -(y[5]-y[3])/(((y[4]-y[2])**2+(y[5]-y[3])**2)**(3/2))    \n",
    "           \n",
    "    return(f)"
   ]
  },
  {
   "cell_type": "code",
   "execution_count": 3,
   "metadata": {},
   "outputs": [],
   "source": [
    "\n",
    "#Inital Conditions\n",
    "Y = [-1,    #x1\n",
    "      0,    #y1\n",
    "      1 ,   #x2\n",
    "      0,    #y2\n",
    "      1,    #x3\n",
    "      0,    #y3\n",
    "     \n",
    "      0,    #vx1\n",
    "      1,    #vy1\n",
    "      0,    #vx2\n",
    "      -1,   #vy2\n",
    "      -1,    #vx3\n",
    "      0,    #vy3\n",
    "] "
   ]
  },
  {
   "cell_type": "code",
   "execution_count": 4,
   "metadata": {},
   "outputs": [
    {
     "name": "stderr",
     "output_type": "stream",
     "text": [
      "/var/folders/qb/x31gb2kj3xx7mx6fqbcsvzp00000gn/T/ipykernel_87813/3239590704.py:17: RuntimeWarning: invalid value encountered in scalar divide\n",
      "  -(y[2]-y[4])/(((y[2]-y[4])**2+(y[3]-y[5])**2)**(3/2))\n",
      "/var/folders/qb/x31gb2kj3xx7mx6fqbcsvzp00000gn/T/ipykernel_87813/3239590704.py:20: RuntimeWarning: invalid value encountered in scalar divide\n",
      "  -(y[3]-y[5])/(((y[2]-y[4])**2+(y[3]-y[5])**2)**(3/2))\n",
      "/var/folders/qb/x31gb2kj3xx7mx6fqbcsvzp00000gn/T/ipykernel_87813/3239590704.py:23: RuntimeWarning: invalid value encountered in scalar divide\n",
      "  -(y[4]-y[2])/(((y[4]-y[2])**2+(y[5]-y[3])**2)**(3/2))\n",
      "/var/folders/qb/x31gb2kj3xx7mx6fqbcsvzp00000gn/T/ipykernel_87813/3239590704.py:26: RuntimeWarning: invalid value encountered in scalar divide\n",
      "  -(y[5]-y[3])/(((y[4]-y[2])**2+(y[5]-y[3])**2)**(3/2))\n"
     ]
    }
   ],
   "source": [
    "N = 1000\n",
    "T = 0.01\n",
    "t = np.linspace(0, N*T, N) # Time is defined between 0 and N*T for N number of samples\n",
    "solution = solve_ivp(fun = Planets, t_span = [0,N*T], y0 = Y, t_eval = t, rtol = 1e-10)\n",
    "\n",
    "#Plotting the evolution in position with respect to time\n",
    "plt.plot(solution.y[0],solution.y[1],'-g') #(x1, y1) Planet 1 in green\n",
    "plt.plot(solution.y[2],solution.y[3],'-r') #(x2, y2) Planet 2 in red\n",
    "plt.plot(solution.y[4],solution.y[5],'-b') #(x3, y3) Planet 3 in blue\n",
    "plt.ylabel(\"Position(y)\")\n",
    "plt.xlabel(\"Position(x)\")\n",
    "plt.show()"
   ]
  }
 ],
 "metadata": {
  "kernelspec": {
   "display_name": "lab",
   "language": "python",
   "name": "python3"
  },
  "language_info": {
   "codemirror_mode": {
    "name": "ipython",
    "version": 3
   },
   "file_extension": ".py",
   "mimetype": "text/x-python",
   "name": "python",
   "nbconvert_exporter": "python",
   "pygments_lexer": "ipython3",
   "version": "3.11.4"
  }
 },
 "nbformat": 4,
 "nbformat_minor": 2
}
