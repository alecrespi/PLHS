{
 "cells": [
  {
   "cell_type": "code",
   "execution_count": 174,
   "metadata": {},
   "outputs": [],
   "source": [
    "\n",
    "from scipy.stats.qmc import LatinHypercube as LHSampler\n",
    "from scipy.stats import qmc \n",
    "from scipy.integrate import quad, dblquad, tplquad\n",
    "from matplotlib import pyplot as plt\n",
    "import numpy as np\n",
    "from src.utils import plotLHS, concat, H\n",
    "from src.eLHS_old import *\n",
    "import json\n",
    "from math import floor, ceil\n",
    "from src.fancyplotter import usePlotSampleSet, SampleSetPlot\n",
    "from typing import Callable, Generator\n",
    "\n",
    "LHS = LHSampler(d = 2)\n",
    "err = 1e-9\n",
    "\n",
    "def expsave(id:str, data, mode:str):\n",
    "    with open(\"./data/\" + id + \".json\", \"w+\") as f:\n",
    "        if(mode == \"w\"):\n",
    "            json.dump(data, f)\n",
    "        elif(mode == \"a\"):\n",
    "            prev = expget(id)\n",
    "            json.dump(prev.append(data), f)\n",
    "\n",
    "def expget(id:str):\n",
    "    with open(\"./data/\" + id + \".json\") as f:\n",
    "        return json.load(f)\n"
   ]
  },
  {
   "cell_type": "markdown",
   "metadata": {},
   "source": [
    "# P-dimensional Reimann integration "
   ]
  },
  {
   "cell_type": "code",
   "execution_count": 194,
   "metadata": {},
   "outputs": [
    {
     "data": {
      "text/plain": [
       "0.8856481815092144"
      ]
     },
     "execution_count": 194,
     "metadata": {},
     "output_type": "execute_result"
    }
   ],
   "source": [
    "class midpointIntegration:\n",
    "    def __init__(self, d:int):\n",
    "        if d <= 0:\n",
    "            raise ValueError(\"Dimension must be positive\")\n",
    "        self.d = d\n",
    "    \n",
    "    def __gen_indexes(self, Ns, borders = False) -> Generator[list, None, None]:\n",
    "        index = [0] * self.d\n",
    "        if not borders:\n",
    "            Ns = (np.array(Ns) - 1).tolist()\n",
    "        yield index\n",
    "        for _ in range(np.prod(Ns)):\n",
    "            for p in reversed(range(self.d)):\n",
    "                if index[p] + 1 == Ns[p]:\n",
    "                    if p == 0:\n",
    "                        return\n",
    "                    index[p] = 0\n",
    "                else:\n",
    "                    index[p] += 1\n",
    "                    break\n",
    "            yield index\n",
    "\n",
    "    def __relindex(self, abs_index: int, Ns: list[int]):\n",
    "        rel = np.zeros((self.d), dtype=int)\n",
    "        r = abs_index\n",
    "        for p in range(0, self.d):\n",
    "            rel[p] = floor(r/Ns[p])\n",
    "            r = r % Ns[p]\n",
    "        rel[-1] = r\n",
    "        return rel\n",
    "\n",
    "    def __absindex(self, rel_index:list[int], Ns:list[int]):\n",
    "        abs = 0\n",
    "        for p in range(0, self.d - 1):\n",
    "            abs += Ns[p] * rel_index[p]\n",
    "        abs += rel_index[-1]\n",
    "        return abs\n",
    "\n",
    "    def __shift_on_axis(self, index, axis: int, Ns: list[int], increment: int = 1):\n",
    "        if type(index) is int:\n",
    "            index = self.__relindex(index, Ns)\n",
    "        rtr = [*index]\n",
    "        rtr[axis] += increment\n",
    "        if type(index) is int:\n",
    "            return self.__absindex(rtr)\n",
    "        else:\n",
    "            return rtr\n",
    "\n",
    "    def midpoint(self, xs, index: list[int], Ns: list[int]):\n",
    "        m = np.zeros((self.d))\n",
    "        for p in range(self.d):\n",
    "            shifted_index = self.__shift_on_axis(index, p, Ns)\n",
    "            m[p] = (xs[*index, p] + xs[*shifted_index, p])/2\n",
    "        return m\n",
    "\n",
    "    # lbs = lower_boundaries\n",
    "    # ubs = upper_boundaries\n",
    "    def integrate(self, f:Callable, Ns:list[int], lbs: list[int], ubs: list[int]):\n",
    "        if len(Ns) != self.d:\n",
    "            raise ValueError(\"Ns must be a list of integers \", self.d, \" long\")\n",
    "        \n",
    "        xs = np.zeros((*Ns, self.d))\n",
    "        for i in self.__gen_indexes(Ns, borders = True):\n",
    "            xs[*i] = [((i[k]/Ns[k])*(ubs[k] - lbs[k]))+lbs[k] for k in range(self.d)]\n",
    "         \n",
    "        I = 0\n",
    "        for i in self.__gen_indexes(Ns, borders = False):\n",
    "            I += f(self.midpoint(xs, i, Ns))\n",
    "        I *= 1/np.prod(Ns)\n",
    "        return I\n",
    "\n",
    "def fun3(x):\n",
    "    if type(x) is int:\n",
    "        x = [x]\n",
    "    return 3*np.sin(x[0])*(np.cos(x[1])**3)\n",
    "\n",
    "d = 2\n",
    "calc = midpointIntegration(d)\n",
    "lbs, ubs = [0] * d, [1] * d \n",
    "Ns = [2000] * d\n",
    "calc.integrate(fun3, Ns, lbs, ubs)\n"
   ]
  },
  {
   "cell_type": "code",
   "execution_count": 169,
   "metadata": {},
   "outputs": [
    {
     "data": {
      "text/plain": [
       "list"
      ]
     },
     "execution_count": 169,
     "metadata": {},
     "output_type": "execute_result"
    }
   ],
   "source": [
    "pippo = np.zeros((10,10,10,5))\n",
    "idx = np.array([1,2,3]).tolist()\n",
    "type(idx)\n",
    "# pippo[*idx, 3]\n"
   ]
  },
  {
   "cell_type": "code",
   "execution_count": 135,
   "metadata": {},
   "outputs": [],
   "source": [
    "def graph(f, n = 1000, lim = [-1, 1], xs = None):\n",
    "    fig, ax = plt.subplots(1,1)\n",
    "    ax.set_xlim(lim[0])\n",
    "    ax.set_ylim(lim[1])\n",
    "    if xs is None:\n",
    "        xs = np.linspace(lim[0], lim[1], n)\n",
    "    ax.plot(xs, f(xs))\n",
    "\n"
   ]
  },
  {
   "cell_type": "markdown",
   "metadata": {},
   "source": [
    "## SOBOL"
   ]
  },
  {
   "cell_type": "code",
   "execution_count": 97,
   "metadata": {},
   "outputs": [
    {
     "name": "stdout",
     "output_type": "stream",
     "text": [
      "Estimated Integral: 1.3123487270237888\n"
     ]
    }
   ],
   "source": [
    "# Define the complex function\n",
    "def fun1(x):\n",
    "    if type(x) is not list:\n",
    "        x = [x]\n",
    "    return np.exp(-np.sum((x - 1/np.arange(1, len(x)+1))**2)) * np.cos(np.sum(x))\n",
    "\n",
    "def fun2(x):\n",
    "    return -np.sin(x) + np.exp(- (x**2)) * np.cos(x)\n",
    "\n",
    "# Define the integration domain and dimension\n",
    "d = 1\n",
    "domain = np.array([[-1, 1]] * d)\n",
    "\n",
    "# Sampling methods (example with Sobol sequence)\n",
    "sampler = qmc.Sobol(d)\n",
    "samples = sampler.random_base2(m=15)  # 2^m samples\n",
    "samples = qmc.scale(samples, domain[:, 0], domain[:, 1])  # Scale to domain\n",
    "\n",
    "# Evaluate the function at sample points\n",
    "values = np.apply_along_axis(fun2, 1, samples)\n",
    "\n",
    "# Estimate the integral\n",
    "integral_estimate = np.mean(values) * np.prod(domain[:, 1] - domain[:, 0])\n",
    "\n",
    "\n",
    "print(f\"Estimated Integral: {integral_estimate}\")\n",
    "# Repeat for different sampling methods and collect results\n"
   ]
  },
  {
   "cell_type": "code",
   "execution_count": null,
   "metadata": {},
   "outputs": [],
   "source": [
    "\n",
    "lim, n = [-3, 3],1000\n",
    "fig, ax = plt.subplots(1,1)\n",
    "ax.set_xlim(lim)\n",
    "xs = np.linspace(lim[0], lim[1], n)\n",
    "ys = [fun1(x) for x in xs]\n",
    "ax.plot(xs, ys)"
   ]
  }
 ],
 "metadata": {
  "kernelspec": {
   "display_name": "lab",
   "language": "python",
   "name": "python3"
  },
  "language_info": {
   "codemirror_mode": {
    "name": "ipython",
    "version": 3
   },
   "file_extension": ".py",
   "mimetype": "text/x-python",
   "name": "python",
   "nbconvert_exporter": "python",
   "pygments_lexer": "ipython3",
   "version": "3.11.4"
  }
 },
 "nbformat": 4,
 "nbformat_minor": 2
}
