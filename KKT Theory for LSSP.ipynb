{
 "cells": [
  {
   "cell_type": "code",
   "execution_count": null,
   "metadata": {},
   "outputs": [],
   "source": [
    "from scipy.stats.qmc import LatinHypercube as LHSampler\n",
    "from matplotlib import pyplot as plt\n",
    "import numpy as np\n",
    "from src.utils import plotLHS, concat, H, F\n",
    "from src.eLHS import *\n",
    "import json\n",
    "\n",
    "# setup sampler\n",
    "LHS = LHSampler(d = 2)"
   ]
  },
  {
   "cell_type": "code",
   "execution_count": null,
   "metadata": {},
   "outputs": [],
   "source": [
    "N3, M3 = 10, 5\n",
    "ss3 = LHS.random(N3)\n",
    "pss3 = PartialeLHS(ss3, M3)\n",
    "plotLHS(pss3, False, True)\n",
    "hbar3 = sudoku_identity(pss3)"
   ]
  },
  {
   "cell_type": "markdown",
   "metadata": {},
   "source": [
    "### Karash-Kuhn-Tucker Solver for LSSP\n",
    "E pensare che mi ha dato 20..."
   ]
  },
  {
   "cell_type": "code",
   "execution_count": null,
   "metadata": {},
   "outputs": [],
   "source": [
    "from scipy.optimize import minimize\n",
    "\n",
    "# Objective Function\n",
    "def objective(Q):\n",
    "    return Q[0]\n",
    "\n",
    "def constraint_eq(Q):\n",
    "    pass \n",
    "\n",
    "def build_constraint_ineq(S: np.ndarray, q, j, alternative = 1, H = H):\n",
    "    if alternative == 1:\n",
    "        def constraint_ineq(unknowns):\n",
    "            Q = unknowns[0]\n",
    "            N = S.shape[0]\n",
    "            if q/(N+Q)> 1: \n",
    "                return 0\n",
    "            return -np.sum(H(S[:, j] - q/(N+Q)) * H((q+1)/(N+Q) - S[:, j]) - 1)\n",
    "        return constraint_ineq\n",
    "    elif alternative == 2:\n",
    "        def constraint_ineq(unknowns):\n",
    "            Q = unknowns[0]\n",
    "            N = S.shape[0]\n",
    "            return H(1 - q/(N+Q)) * -(np.sum(H(S[:, j] - q/(N+Q)) * H((q+1)/(N+Q) - S[:, j])) - 1) \n",
    "        return constraint_ineq\n",
    "    \n",
    "\n",
    "constraint_ineqs = []\n",
    "for q in range(2 * N3):\n",
    "    for j in range(ss3.shape[1]):\n",
    "        constraint_ineqs.append({'type': 'ineq', 'fun': build_constraint_ineq(ss3, q, j, 2)})\n",
    "\n",
    "# constraint_ineqs.append(\n",
    "#     {'type': 'ineq', 'fun': lambda Q: Q[0] - 1}\n",
    "# )\n",
    "# constraint_ineqs.append(\n",
    "#     {'type': 'ineq', 'fun': lambda Q: N3 + Q[0]}\n",
    "# )\n",
    "\n",
    "initial_guess = [14]\n",
    "\n",
    "result = minimize(\n",
    "    objective,\n",
    "    initial_guess,\n",
    "    constraints = constraint_ineqs, \n",
    "    bounds = [(1, N3-1)], \n",
    "    method='SLSQP', \n",
    "    tol=1e-6,\n",
    "    options={\n",
    "        # 'maxiter': 10000\n",
    "        'disp': True\n",
    "    }\n",
    "\n",
    ")\n",
    "\n",
    "print(result)"
   ]
  },
  {
   "cell_type": "code",
   "execution_count": null,
   "metadata": {},
   "outputs": [],
   "source": [
    "# SOLVER STEPPER (for Sample Set ss3)\n",
    "# Qs = np.linspace(1, N3-1, N3-1)\n",
    "P = 2 \n",
    "guessQ = 5\n",
    "unconsistencies = np.zeros((P))\n",
    "print(\"    q j  | passed\")\n",
    "print(\"    ---  | ------\")\n",
    "for j in range(P):\n",
    "    for q in range(N3):\n",
    "        if(constraint_ineqs[q * P + j]['fun']([guessQ]) >= 0):\n",
    "            print(\"=> \", q, j, \" | ✅\")\n",
    "        else:\n",
    "            print(\"=> \", q, j, \" | ❌\")\n",
    "            unconsistencies[j] += 1\n",
    "\n",
    "print(\"END\")\n",
    "\n",
    "print(unconsistencies)\n"
   ]
  },
  {
   "cell_type": "code",
   "execution_count": null,
   "metadata": {},
   "outputs": [],
   "source": [
    "a, b = 0, N3\n",
    "xs = np.linspace(a, b, N3+1)\n",
    "for i in range(N3 * 2):\n",
    "    ys = [constraint_ineqs[i]['fun']([x]) for x in xs]\n",
    "    # plt.plot(xs, ys)\n",
    "    plt.scatter(xs, ys, s=0.5)"
   ]
  }
 ],
 "metadata": {
  "kernelspec": {
   "display_name": "lab",
   "language": "python",
   "name": "python3"
  },
  "language_info": {
   "codemirror_mode": {
    "name": "ipython",
    "version": 3
   },
   "file_extension": ".py",
   "mimetype": "text/x-python",
   "name": "python",
   "nbconvert_exporter": "python",
   "pygments_lexer": "ipython3",
   "version": "3.11.4"
  }
 },
 "nbformat": 4,
 "nbformat_minor": 2
}
