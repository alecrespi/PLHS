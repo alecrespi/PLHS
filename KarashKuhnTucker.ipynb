{
 "cells": [
  {
   "cell_type": "code",
   "execution_count": 1,
   "metadata": {},
   "outputs": [],
   "source": [
    "from scipy.optimize import minimize"
   ]
  },
  {
   "cell_type": "markdown",
   "metadata": {},
   "source": [
    "### Understanding scipy.optimize.minimize"
   ]
  },
  {
   "cell_type": "code",
   "execution_count": 7,
   "metadata": {},
   "outputs": [
    {
     "name": "stdout",
     "output_type": "stream",
     "text": [
      "Optimization terminated successfully    (Exit mode 0)\n",
      "            Current function value: 5.00000000000037\n",
      "            Iterations: 7\n",
      "            Function evaluations: 26\n",
      "            Gradient evaluations: 7\n",
      " message: Optimization terminated successfully\n",
      " success: True\n",
      "  status: 0\n",
      "     fun: 5.00000000000037\n",
      "       x: [-1.000e+00 -2.000e+00]\n",
      "     nit: 7\n",
      "     jac: [-2.000e+00 -4.000e+00]\n",
      "    nfev: 26\n",
      "    njev: 7\n"
     ]
    }
   ],
   "source": [
    "result = minimize(\n",
    "    lambda x: x[0]**2 + x[1]**2,\n",
    "    [0, 0], \n",
    "    constraints = {'type': 'eq', 'fun': lambda x: (x[0] - 1)**2 + (x[1] - 2)**2 - 20 },\n",
    "    options={'disp': True}\n",
    ")\n",
    "\n",
    "print(result)"
   ]
  },
  {
   "cell_type": "code",
   "execution_count": 10,
   "metadata": {},
   "outputs": [
    {
     "name": "stdout",
     "output_type": "stream",
     "text": [
      "Optimization terminated successfully    (Exit mode 0)\n",
      "            Current function value: 0.7999999999999989\n",
      "            Iterations: 5\n",
      "            Function evaluations: 16\n",
      "            Gradient evaluations: 5\n",
      " message: Optimization terminated successfully\n",
      " success: True\n",
      "  status: 0\n",
      "     fun: 0.7999999999999989\n",
      "       x: [ 8.000e-01  1.200e+00]\n",
      "     nit: 5\n",
      "     jac: [-1.600e+00 -1.600e+00]\n",
      "    nfev: 16\n",
      "    njev: 5\n"
     ]
    }
   ],
   "source": [
    "result = minimize(\n",
    "    lambda x: 4 * (x[0] - 1)**2 + (x[1] - 2)**2,\n",
    "    [0, 0], \n",
    "    constraints = [\n",
    "        {'type': 'ineq', 'fun': lambda x: - x[0] - x[1] + 2 },\n",
    "        {'type': 'ineq', 'fun': lambda x: x[0] + 1 },\n",
    "        {'type': 'ineq', 'fun': lambda x: x[1] + 1 },\n",
    "    ],\n",
    "    options={'disp': True}\n",
    ")\n",
    "\n",
    "print(result)"
   ]
  },
  {
   "cell_type": "code",
   "execution_count": 12,
   "metadata": {},
   "outputs": [
    {
     "name": "stdout",
     "output_type": "stream",
     "text": [
      "Optimization terminated successfully    (Exit mode 0)\n",
      "            Current function value: 6.856348675049021e-06\n",
      "            Iterations: 21\n",
      "            Function evaluations: 68\n",
      "            Gradient evaluations: 19\n",
      " message: Optimization terminated successfully\n",
      " success: True\n",
      "  status: 0\n",
      "     fun: 6.856348675049021e-06\n",
      "       x: [-2.236e-12  6.856e-06]\n",
      "     nit: 21\n",
      "     jac: [ 1.000e+00  1.000e+00]\n",
      "    nfev: 68\n",
      "    njev: 19\n"
     ]
    }
   ],
   "source": [
    "result = minimize(\n",
    "    lambda x: x[0] + x[1],\n",
    "    [1, 1], \n",
    "    constraints = [\n",
    "        {'type': 'ineq', 'fun': lambda x: x[0] - 4 * x[1] + 3 },\n",
    "        {'type': 'ineq', 'fun': lambda x: x[1]**2 - x[0] },\n",
    "        {'type': 'ineq', 'fun': lambda x: x[0] },\n",
    "    ],\n",
    "    options={'disp': True}\n",
    ")\n",
    "\n",
    "print(result)"
   ]
  }
 ],
 "metadata": {
  "kernelspec": {
   "display_name": "lab",
   "language": "python",
   "name": "python3"
  },
  "language_info": {
   "codemirror_mode": {
    "name": "ipython",
    "version": 3
   },
   "file_extension": ".py",
   "mimetype": "text/x-python",
   "name": "python",
   "nbconvert_exporter": "python",
   "pygments_lexer": "ipython3",
   "version": "3.11.4"
  }
 },
 "nbformat": 4,
 "nbformat_minor": 2
}
