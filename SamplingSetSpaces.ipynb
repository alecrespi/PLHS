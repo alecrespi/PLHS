{
 "cells": [
  {
   "cell_type": "markdown",
   "metadata": {},
   "source": [
    "## Sample Set Spaces x LHS: Draftbox"
   ]
  },
  {
   "cell_type": "code",
   "execution_count": 2,
   "metadata": {},
   "outputs": [],
   "source": [
    "from scipy.stats.qmc import QMCEngine\n",
    "import numpy as np\n",
    "from src.utils import plotLHS, concat\n",
    "from src.eLHS import *"
   ]
  },
  {
   "cell_type": "code",
   "execution_count": 3,
   "metadata": {},
   "outputs": [],
   "source": [
    "class RandomEngine(QMCEngine):\n",
    "    def __init__(self, d, seed=None):\n",
    "        super().__init__(d=d, seed=seed)\n",
    "\n",
    "\n",
    "    def _random(self, n=1, *, workers=1):\n",
    "        return self.rng.random((n, self.d))\n",
    "\n",
    "\n",
    "    def reset(self):\n",
    "        super().__init__(d=self.d, seed=self.rng_seed)\n",
    "        return self\n",
    "\n",
    "\n",
    "    def fast_forward(self, n):\n",
    "        self.random(n)\n",
    "        return self\n"
   ]
  },
  {
   "cell_type": "code",
   "execution_count": 4,
   "metadata": {},
   "outputs": [],
   "source": [
    "P = 2\n",
    "sampler = RandomEngine(P)"
   ]
  },
  {
   "cell_type": "code",
   "execution_count": 5,
   "metadata": {},
   "outputs": [
    {
     "name": "stdout",
     "output_type": "stream",
     "text": [
      "Grade:  316/500\n"
     ]
    }
   ],
   "source": [
    "N, M = 20, 10\n",
    "ss1 = sampler.random(N)\n",
    "gr1 = grade(ss1)\n",
    "print(\"Grade: \", str(gr1) + \"/\" + str(N))\n",
    "plotLHS(ss1, True, True)\n"
   ]
  },
  {
   "cell_type": "code",
   "execution_count": 6,
   "metadata": {},
   "outputs": [
    {
     "name": "stdout",
     "output_type": "stream",
     "text": [
      "Grade:  721/847\n"
     ]
    }
   ],
   "source": [
    "exp1 = eLHS(ss1, M, fullGraded = False)\n",
    "eLHS1 = concat(ss1, exp1[\"expansion\"])\n",
    "print(\"Grade: \", str(exp1[\"grade\"]) + \"/\" + str(N + M))\n",
    "plotLHS(eLHS1, True, True)"
   ]
  },
  {
   "cell_type": "markdown",
   "metadata": {},
   "source": [
    "### Crash test for: gr(l) + M <= gr(s) <= N + M"
   ]
  },
  {
   "cell_type": "code",
   "execution_count": 181,
   "metadata": {},
   "outputs": [
    {
     "name": "stdout",
     "output_type": "stream",
     "text": [
      "LHS Grade: \t\t 13/20\n",
      "expansion Grade: \t 36/40\n",
      "Acceptance interval?\t 3  | ✅\n"
     ]
    }
   ],
   "source": [
    "N2, M2 = 20, 20\n",
    "ss2 = sampler.random(N2)\n",
    "gr2 = grade(ss2)\n",
    "exp2 = eLHS(ss2, M2, fullGraded = False)\n",
    "eLHS2 = concat(ss2, exp2[\"expansion\"])\n",
    "print(\"LHS Grade: \\t\\t\", str(gr2) + \"/\" + str(N2))\n",
    "print(\"expansion Grade: \\t\", str(exp2[\"grade\"]) + \"/\" + str(len(eLHS2)))\n",
    "print(\n",
    "    \"Acceptance interval?\\t\", \n",
    "    exp2[\"grade\"] - (gr2+M2),\n",
    "    \" | \"\n",
    "    \"✅\" if (gr2+M2) <= exp2[\"grade\"] <= (N2+M2) else \"❌\")\n"
   ]
  }
 ],
 "metadata": {
  "kernelspec": {
   "display_name": "lab",
   "language": "python",
   "name": "python3"
  },
  "language_info": {
   "codemirror_mode": {
    "name": "ipython",
    "version": 3
   },
   "file_extension": ".py",
   "mimetype": "text/x-python",
   "name": "python",
   "nbconvert_exporter": "python",
   "pygments_lexer": "ipython3",
   "version": "3.11.4"
  }
 },
 "nbformat": 4,
 "nbformat_minor": 2
}
