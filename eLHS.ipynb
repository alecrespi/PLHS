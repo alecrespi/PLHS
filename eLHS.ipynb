{
 "cells": [
  {
   "cell_type": "code",
   "execution_count": 2,
   "metadata": {},
   "outputs": [],
   "source": [
    "from scipy.stats.qmc import LatinHypercube as LHSampler\n",
    "from matplotlib import pyplot as plt\n",
    "from typing import List, Tuple\n",
    "import numpy as np\n",
    "import copy"
   ]
  },
  {
   "cell_type": "code",
   "execution_count": 3,
   "metadata": {},
   "outputs": [],
   "source": [
    "LHS = LHSampler(d=2)\n",
    "ss1 = LHS.random(10)"
   ]
  },
  {
   "cell_type": "code",
   "execution_count": 4,
   "metadata": {},
   "outputs": [
    {
     "name": "stdout",
     "output_type": "stream",
     "text": [
      "[[1 1]\n",
      " [1 1]\n",
      " [1 1]\n",
      " [1 1]\n",
      " [1 1]\n",
      " [1 1]\n",
      " [1 1]\n",
      " [1 1]\n",
      " [1 1]\n",
      " [1 1]]\n"
     ]
    },
    {
     "data": {
      "text/plain": [
       "10"
      ]
     },
     "execution_count": 4,
     "metadata": {},
     "output_type": "execute_result"
    }
   ],
   "source": [
    "def lhs_grader(lhs:np.ndarray):\n",
    "    y = sudoker(lhs)\n",
    "    # print([np.min(y[s]) for s in range(len(y))])\n",
    "    # reducing y\n",
    "    grade = np.min([np.sum(y[:, s]) for s in range(y.shape[1])])\n",
    "    return grade\n",
    "\n",
    "def sudoker(lhs:np.ndarray):\n",
    "    N, P = lhs.shape\n",
    "    y = np.array(lhs, dtype=int).reshape(N, P) # deep copying\n",
    "    # y = [[0 for _ in range(len(lhs))] for i in range(len(lhs))]\n",
    "    for q in range(N):\n",
    "        interval = [q/N, (q+1)/N]\n",
    "        for j in range(P):\n",
    "            y[q, j] = 0\n",
    "            for i in range(N):\n",
    "                if(interval[0] <= lhs[i, j] <= interval[1]):\n",
    "                    y[q, j] = int(1)\n",
    "                    break\n",
    "    return y\n",
    "\n",
    " \n",
    "def eLHS(lhs:np.ndarray, M:int):\n",
    "    N, P = lhs.shape\n",
    "    if(lhs_grader == N):\n",
    "        raise ValueError(\"lhs must be a proper LHS sample\")\n",
    "    \n",
    "    exp = {\"N\": N,\n",
    "           \"M\": M,\n",
    "           \"F\": None,\n",
    "           \"Q\": None,\n",
    "           \"expansion\": np.array([]), \n",
    "           \"grade\": None }\n",
    "    \n",
    "\n",
    "print(sudoker(ss1))\n",
    "lhs_grader(ss1)\n",
    "\n"
   ]
  }
 ],
 "metadata": {
  "kernelspec": {
   "display_name": "lab",
   "language": "python",
   "name": "python3"
  },
  "language_info": {
   "codemirror_mode": {
    "name": "ipython",
    "version": 3
   },
   "file_extension": ".py",
   "mimetype": "text/x-python",
   "name": "python",
   "nbconvert_exporter": "python",
   "pygments_lexer": "ipython3",
   "version": "3.11.4"
  }
 },
 "nbformat": 4,
 "nbformat_minor": 2
}
