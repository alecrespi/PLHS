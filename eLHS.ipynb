{
 "cells": [
  {
   "cell_type": "code",
   "execution_count": 205,
   "metadata": {},
   "outputs": [],
   "source": [
    "from scipy.stats.qmc import LatinHypercube as LHSampler\n",
    "from matplotlib import pyplot as plt\n",
    "from typing import List, Tuple\n",
    "import numpy as np\n",
    "import copy"
   ]
  },
  {
   "cell_type": "code",
   "execution_count": 285,
   "metadata": {},
   "outputs": [],
   "source": [
    "LHS = LHSampler(d=3)"
   ]
  },
  {
   "cell_type": "code",
   "execution_count": 324,
   "metadata": {},
   "outputs": [],
   "source": [
    "def lhs_grader(lhs: np.ndarray):\n",
    "    y = sudoku_identity(lhs)\n",
    "    # print([np.min(y[s]) for s in range(len(y))])\n",
    "    # reducing y\n",
    "    grade = np.min([np.sum(y[:, s]) for s in range(y.shape[1])])\n",
    "    return grade\n",
    "\n",
    "def sudoku_identity(lhs: np.array):\n",
    "    N, P = lhs.shape\n",
    "    y = np.zeros(lhs.shape, dtype=int)\n",
    "    # y = [[0 for _ in range(len(lhs))] for i in range(len(lhs))]\n",
    "    for q in range(N):  # find another way out pls\n",
    "        interval = [q/N, (q+1)/N]\n",
    "        for j in range(P):\n",
    "            for i in range(N):\n",
    "                if(lhs[i, j] is not None and interval[0] <= lhs[i, j] <= interval[1]):\n",
    "                    y[q, j] = int(1)\n",
    "                    break\n",
    "    return y\n",
    "\n",
    "\n",
    "# auxiliary h-bar matrix \n",
    "def lhs_grader_h(lhs: np.ndarray):\n",
    "    y = sudoku_identity(lhs)\n",
    "    # print([np.min(y[s]) for s in range(len(y))])\n",
    "    # reducing y\n",
    "    grade = np.min([np.sum(y[:, s, 0]) for s in range(y.shape[1])])\n",
    "    return grade\n",
    "\n",
    "\n",
    "def sudoku_identity_h(lhs: np.array):\n",
    "    N, P = lhs.shape\n",
    "    y = np.zeros((*lhs.shape, 2), dtype=int)\n",
    "    # y = [[0 for _ in range(len(lhs))] for i in range(len(lhs))]\n",
    "    for q in range(N):  # find another way out pls\n",
    "        interval = [q/N, (q+1)/N]\n",
    "        for j in range(P):\n",
    "            y[q, j, 1] = -1\n",
    "            for i in range(N):\n",
    "                if(lhs[i, j] is not None and interval[0] <= lhs[i, j] <= interval[1]):\n",
    "                    y[q, j, 0], y[q, j, 1] = int(1), i\n",
    "                    break\n",
    "    return y"
   ]
  },
  {
   "cell_type": "code",
   "execution_count": 353,
   "metadata": {},
   "outputs": [],
   "source": [
    "def anti_sudoku_identity(lhs: np.array):\n",
    "    N, P = lhs.shape\n",
    "    y = np.zeros(lhs.shape, dtype=int)\n",
    "    for q in range(N):\n",
    "        interval = [q/N, (q+1)/N]\n",
    "        for j in range(P):\n",
    "            for i in range(N):\n",
    "                if(lhs[i, j] is not None and interval[0] <= lhs[i, j] <= interval[1]):\n",
    "                    y[q, j] += int(1)\n",
    "    return y"
   ]
  },
  {
   "cell_type": "code",
   "execution_count": 358,
   "metadata": {},
   "outputs": [
    {
     "name": "stdout",
     "output_type": "stream",
     "text": [
      "[[1 1 1]\n",
      " [1 1 1]\n",
      " [1 1 1]\n",
      " [1 1 1]\n",
      " [1 2 1]\n",
      " [1 1 1]\n",
      " [1 0 1]\n",
      " [0 1 1]\n",
      " [2 1 2]\n",
      " [1 1 0]]\n"
     ]
    },
    {
     "data": {
      "text/plain": [
       "9"
      ]
     },
     "execution_count": 358,
     "metadata": {},
     "output_type": "execute_result"
    }
   ],
   "source": [
    "# PeLHS (Partial expanded LHS)\n",
    "\n",
    "def eLHS(lhs: np.ndarray, M:int):\n",
    "    N, P = lhs.shape\n",
    "\n",
    "    if(lhs_grader(lhs) == N):\n",
    "        raise ValueError(\"Parameter lhs must be a proper LHS sample\")\n",
    "    \n",
    "\n",
    "    exp = {\"N\": N,\n",
    "           \"M\": M,\n",
    "           \"F\": None,\n",
    "           \"Q\": None,\n",
    "           \"expansion\": np.array([]), \n",
    "           \"grade\": None }\n",
    "\n",
    "    \n",
    "\n",
    "ss1 = LHS.random(10)\n",
    "# ss1[2] = ss1[3] + ss1[1] # interesting test\n",
    "ss1[2] = LHS.random(1)\n",
    "# print(ss1[2])\n",
    "# print(sudoku_identity(ss1))\n",
    "print(anti_sudoku_identity(ss1))\n",
    "lhs_grader(ss1)\n",
    "\n"
   ]
  },
  {
   "cell_type": "code",
   "execution_count": 224,
   "metadata": {},
   "outputs": [
    {
     "name": "stdout",
     "output_type": "stream",
     "text": [
      "# of zeroes:  92\n",
      "# of zeroes:  97\n",
      "# of zeroes:  94\n"
     ]
    }
   ],
   "source": [
    "# SANDBOX\n",
    "# tick for PeLHS vacancies \n",
    "def PartialeLHS(lhs: np.ndarray, M:int):\n",
    "    # vacancies = [[i for i in range(lhs.shape[0] + M)] for _ in range(lhs.shape[1])]\n",
    "    N, P = lhs.shape\n",
    "    PeLHS = np.concatenate((lhs, [[None for _ in range(P)] for _ in range(M)]))\n",
    "    return sudoku_identity(PeLHS)\n",
    "    \n",
    "N, M = 123, 87\n",
    "ss2 = LHS.random(N)\n",
    "pelhs = PartialeLHS(ss2, M)\n",
    "print(\"# of zeroes: \", N + M - np.sum(pelhs[:, 0]))\n",
    "print(\"# of zeroes: \", N + M - np.sum(pelhs[:, 1]))\n",
    "print(\"# of zeroes: \", N + M - np.sum(pelhs[:, 2]))\n",
    "\n",
    "# pippo = np.array([*np.indices([3]), *np.indices([3])])\n"
   ]
  }
 ],
 "metadata": {
  "kernelspec": {
   "display_name": "lab",
   "language": "python",
   "name": "python3"
  },
  "language_info": {
   "codemirror_mode": {
    "name": "ipython",
    "version": 3
   },
   "file_extension": ".py",
   "mimetype": "text/x-python",
   "name": "python",
   "nbconvert_exporter": "python",
   "pygments_lexer": "ipython3",
   "version": "3.11.4"
  }
 },
 "nbformat": 4,
 "nbformat_minor": 2
}
