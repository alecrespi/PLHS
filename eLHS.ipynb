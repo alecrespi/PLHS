{
 "cells": [
  {
   "cell_type": "code",
   "execution_count": 455,
   "metadata": {},
   "outputs": [],
   "source": [
    "from scipy.stats.qmc import LatinHypercube as LHSampler\n",
    "from matplotlib import pyplot as plt\n",
    "from typing import List, Tuple\n",
    "import numpy as np\n",
    "from math import floor\n",
    "import copy"
   ]
  },
  {
   "cell_type": "code",
   "execution_count": 413,
   "metadata": {},
   "outputs": [],
   "source": [
    "LHS = LHSampler(d=2)"
   ]
  },
  {
   "cell_type": "code",
   "execution_count": 512,
   "metadata": {},
   "outputs": [],
   "source": [
    "# 2D-only LHS plotter\n",
    "def plotLHS(lhs: np.ndarray, grid = False, highlight = False):\n",
    "    N, P = lhs.shape\n",
    "    if P != 2:\n",
    "        return\n",
    "    plt.xlim(0, 1)\n",
    "    plt.ylim(0, 1)\n",
    "    plt.scatter(lhs[:, 0], lhs[:, 1], marker='o', c='r', s=2)\n",
    "    if grid:\n",
    "        for q in range(0, N):\n",
    "            plt.axhline(y=q/N, color='black', linestyle='--', linewidth=0.3)\n",
    "            plt.axvline(x=q/N, color='black', linestyle='--', linewidth=0.3)\n",
    "    # floor(coord/interval_size) = interval_index (starting from zero)\n",
    "    if highlight:\n",
    "        timestep = 1/N\n",
    "        for i in range(N):\n",
    "            try:\n",
    "                if lhs[i, 0] is None or lhs[i, 0] is None or np.isnan(lhs[i, 0]) or np.isnan(lhs[i, 1]):\n",
    "                    continue\n",
    "                qh = floor(lhs[i, 0]/timestep)\n",
    "                qv = floor(lhs[i, 1]/timestep)\n",
    "                plt.axvspan(qh/N, (qh+1)/N, facecolor='blue', alpha=0.15)\n",
    "                plt.axhspan(qv/N, (qv+1)/N, facecolor='blue', alpha=0.15)\n",
    "            except:\n",
    "                continue\n"
   ]
  },
  {
   "cell_type": "code",
   "execution_count": 438,
   "metadata": {},
   "outputs": [],
   "source": [
    "def lhs_grader(lhs: np.ndarray):\n",
    "    y = sudoku_identity(lhs)\n",
    "    # print([np.min(y[s]) for s in range(len(y))])\n",
    "    # reducing y\n",
    "    grade = np.min([np.sum(y[:, s]) for s in range(y.shape[1])])\n",
    "    return grade\n",
    "\n",
    "def sudoku_identity(lhs: np.array, verbose: bool = False):\n",
    "    N, P = lhs.shape\n",
    "    y = np.zeros(lhs.shape, dtype=int)\n",
    "    for q in range(N):\n",
    "        interval = [q/N, (q+1)/N]\n",
    "        for j in range(P):\n",
    "            for i in range(N):\n",
    "                if(lhs[i, j] is not None and interval[0] <= lhs[i, j] <= interval[1]):\n",
    "                    y[q, j] += int(1)\n",
    "                    if not verbose:\n",
    "                        break\n",
    "    return y\n",
    "\n",
    "\n",
    "# auxiliary h-bar matrix \n",
    "def lhs_grader_h(lhs: np.ndarray):\n",
    "    y = sudoku_identity(lhs)\n",
    "    # print([np.min(y[s]) for s in range(len(y))])\n",
    "    # reducing y\n",
    "    grade = np.min([np.sum(y[:, s, 0]) for s in range(y.shape[1])])\n",
    "    return grade\n",
    "\n",
    "\n",
    "def sudoku_identity_h(lhs: np.array):\n",
    "    N, P = lhs.shape\n",
    "    y = np.zeros((*lhs.shape, 2), dtype=int)\n",
    "    # y = [[0 for _ in range(len(lhs))] for i in range(len(lhs))]\n",
    "    for q in range(N):  # find another way out pls\n",
    "        interval = [q/N, (q+1)/N]\n",
    "        for j in range(P):\n",
    "            y[q, j, 1] = -1\n",
    "            for i in range(N):\n",
    "                if(lhs[i, j] is not None and interval[0] <= lhs[i, j] <= interval[1]):\n",
    "                    y[q, j, 0], y[q, j, 1] = int(1), i\n",
    "                    break\n",
    "    return y"
   ]
  },
  {
   "cell_type": "code",
   "execution_count": 416,
   "metadata": {},
   "outputs": [
    {
     "data": {
      "text/plain": [
       "100"
      ]
     },
     "execution_count": 416,
     "metadata": {},
     "output_type": "execute_result"
    }
   ],
   "source": [
    "# PeLHS (Partial expanded LHS)\n",
    "\n",
    "def eLHS(lhs: np.ndarray, M:int):\n",
    "    N, P = lhs.shape\n",
    "\n",
    "    if(lhs_grader(lhs) == N):\n",
    "        raise ValueError(\"Parameter lhs must be a proper LHS sample\")\n",
    "    \n",
    "\n",
    "    exp = {\"N\": N,\n",
    "           \"M\": M,\n",
    "           \"F\": None,\n",
    "           \"Q\": None,\n",
    "           \"expansion\": np.array([]), \n",
    "           \"grade\": None }\n",
    "\n",
    "    \n",
    "\n",
    "ss1 = LHS.random(100)\n",
    "# ss1[2] = ss1[3] + ss1[1] # interesting test\n",
    "# print(ss1[2])\n",
    "# print(sudoku_identity(ss1))\n",
    "lhs_grader(ss1)\n",
    "\n"
   ]
  },
  {
   "cell_type": "code",
   "execution_count": 513,
   "metadata": {},
   "outputs": [
    {
     "name": "stdout",
     "output_type": "stream",
     "text": [
      "[[1, 2, 4, 7, 8], [0, 2, 5, 7, 9]]\n",
      "[[0.9421178666450546 0.4541171044797515]\n",
      " [0.01566489053061919 0.8495568955420005]\n",
      " [0.3726096894450648 0.19688886905091282]\n",
      " [0.6492805861306001 0.635978229760057]\n",
      " [0.5834583517736176 0.34048029996155077]\n",
      " [None None]\n",
      " [None None]\n",
      " [None None]\n",
      " [None None]\n",
      " [None None]]\n"
     ]
    },
    {
     "data": {
      "image/png": "[encoded data removed]",
      "text/plain": [
       "<Figure size 640x480 with 1 Axes>"
      ]
     },
     "metadata": {},
     "output_type": "display_data"
    }
   ],
   "source": [
    "# SANDBOX\n",
    "# tick for PeLHS vacancies \n",
    "def PartialeLHS(lhs: np.ndarray, M:int):\n",
    "    # vacancies = [[i for i in range(lhs.shape[0] + M)] for _ in range(lhs.shape[1])]\n",
    "    N, P = lhs.shape\n",
    "    PeLHS = np.concatenate((lhs, np.array([[None for _ in range(P)] for _ in range(M)])))\n",
    "    sdk = sudoku_identity(PeLHS)\n",
    "    vacancies = [[i for i in range(N + M) if sdk[i, j] == 0] for j in range(P)]\n",
    "    print(vacancies)\n",
    "    return PeLHS\n",
    "    \n",
    "    \n",
    "N, M = 5, 5\n",
    "ss2 = LHS.random(N)\n",
    "pss2 = PartialeLHS(ss2, M)\n",
    "print(pss2)\n",
    "plotLHS(pss2, grid=True, highlight=True)\n"
   ]
  }
 ],
 "metadata": {
  "kernelspec": {
   "display_name": "lab",
   "language": "python",
   "name": "python3"
  },
  "language_info": {
   "codemirror_mode": {
    "name": "ipython",
    "version": 3
   },
   "file_extension": ".py",
   "mimetype": "text/x-python",
   "name": "python",
   "nbconvert_exporter": "python",
   "pygments_lexer": "ipython3",
   "version": "3.11.4"
  }
 },
 "nbformat": 4,
 "nbformat_minor": 2
}
