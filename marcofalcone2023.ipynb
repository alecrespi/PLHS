{
 "cells": [
  {
   "cell_type": "code",
   "execution_count": 5,
   "id": "b243d39a",
   "metadata": {},
   "outputs": [],
   "source": [
    "import numpy\n",
    "import matplotlib.pyplot as plt\n",
    "from numpy import zeros\n",
    "import time"
   ]
  },
  {
   "cell_type": "code",
   "execution_count": 6,
   "id": "1a4f74fd",
   "metadata": {},
   "outputs": [],
   "source": [
    "from scipy.stats import qmc"
   ]
  },
  {
   "cell_type": "code",
   "execution_count": 7,
   "id": "7414f4dc",
   "metadata": {},
   "outputs": [
    {
     "ename": "NameError",
     "evalue": "name 'LHS_1' is not defined",
     "output_type": "error",
     "traceback": [
      "\u001b[0;31m---------------------------------------------------------------------------\u001b[0m",
      "\u001b[0;31mNameError\u001b[0m                                 Traceback (most recent call last)",
      "Cell \u001b[0;32mIn[7], line 1\u001b[0m\n\u001b[0;32m----> 1\u001b[0m sample \u001b[38;5;241m=\u001b[39m LHS_1\u001b[38;5;241m.\u001b[39mrandom(n\u001b[38;5;241m=\u001b[39m\u001b[38;5;241m4\u001b[39m)\n\u001b[1;32m      2\u001b[0m plt\u001b[38;5;241m.\u001b[39mfigure(figsize\u001b[38;5;241m=\u001b[39m[\u001b[38;5;241m6\u001b[39m, \u001b[38;5;241m6\u001b[39m])\n\u001b[1;32m      3\u001b[0m plt\u001b[38;5;241m.\u001b[39mxlim([\u001b[38;5;241m0\u001b[39m, \u001b[38;5;241m1\u001b[39m])\n",
      "\u001b[0;31mNameError\u001b[0m: name 'LHS_1' is not defined"
     ]
    }
   ],
   "source": [
    "sample = LHS_1.random(n=4)\n",
    "plt.figure(figsize=[6, 6])\n",
    "plt.xlim([0, 1])\n",
    "plt.ylim([0, 1])\n",
    "plt.scatter(sample[:, 0], sample[:, 1], c='r')\n",
    "\n",
    "for i in numpy.arange(0, 1, 1/4):\n",
    "    plt.axvline(i)\n",
    "    plt.axhline(i)\n",
    "    \n",
    "\n",
    "plt.show()"
   ]
  },
  {
   "cell_type": "code",
   "execution_count": null,
   "id": "82a3f1a5",
   "metadata": {},
   "outputs": [],
   "source": [
    "def LHS(n, p, sx=0, dx=0):\n",
    "    \n",
    "    sx = numpy.arange(0, n)/n\n",
    "    dx = numpy.arange(1, n+1)/n\n",
    "    \n",
    "    punti = numpy.random.uniform(low = sx, high= dx, size=[p,n]).T\n",
    "    \n",
    "    for j in range(p):\n",
    "        numpy.random.shuffle(punti[:, j])\n",
    "    \n",
    "    return punti"
   ]
  },
  {
   "cell_type": "code",
   "execution_count": null,
   "id": "8f80dea6",
   "metadata": {},
   "outputs": [
    {
     "data": {
      "text/plain": [
       "\"plt.figure(figsize=[6, 6])\\nplt.xlim([0, 1])\\nplt.ylim([0, 1])\\nplt.scatter(sample[:, 0], sample[:, 1], c='r')\\n\\nfor i in numpy.arange(0, 1, 1/4):\\n    plt.axvline(i)\\n    plt.axhline(i)\\n\\nplt.show()\""
      ]
     },
     "execution_count": 5,
     "metadata": {},
     "output_type": "execute_result"
    }
   ],
   "source": [
    "sample = LHS(n=20, p=2)\n",
    "\"\"\"plt.figure(figsize=[6, 6])\n",
    "plt.xlim([0, 1])\n",
    "plt.ylim([0, 1])\n",
    "plt.scatter(sample[:, 0], sample[:, 1], c='r')\n",
    "\n",
    "for i in numpy.arange(0, 1, 1/4):\n",
    "    plt.axvline(i)\n",
    "    plt.axhline(i)\n",
    "\n",
    "plt.show()\"\"\""
   ]
  },
  {
   "cell_type": "code",
   "execution_count": null,
   "id": "d1cb488f",
   "metadata": {},
   "outputs": [],
   "source": [
    "q = numpy.logspace(1,5,20, dtype=int)\n",
    "#n_int = 10\n",
    "n_test = 10"
   ]
  },
  {
   "cell_type": "code",
   "execution_count": null,
   "id": "348e4326",
   "metadata": {},
   "outputs": [],
   "source": [
    "def addLHS(points, M):\n",
    "    ex_time = 0 #<-----------------------------------------------------------\n",
    "    for g in range(n_test):\n",
    "        n = points.shape[0]\n",
    "        p = points.shape[1]\n",
    "\n",
    "        sx = numpy.arange(0, n*M)/(n*M)\n",
    "        dx = numpy.arange(1, n*M+1)/(n*M)\n",
    "        punti = numpy.random.uniform(low = sx, high= dx, size=[p, n*M]).T\n",
    "        numpy.random.shuffle(punti[:, 1])\n",
    "        numpy.random.shuffle(punti[:, 0])\n",
    "\n",
    "        a = zeros((n*M, p)) \n",
    "\n",
    "        j=0 \n",
    "        start = time.perf_counter() #<-------------------------------------------------------------------------\n",
    "        for i in range(0, n*M):\n",
    "            for t in range(0, n):\n",
    "                for k in range(0,n*M): \n",
    "                    if ((punti[i, j]>sx[k]) and (punti[i, j]<dx[k]) and (points[t, j]>sx[k]) and (points[t, j]<dx[k])): \n",
    "                        punti[i, :] = sample[t, :]\n",
    "        for j in range(1, p):\n",
    "            for s in range(0, n*M):\n",
    "                for r in range(0, n*M):\n",
    "                    if ((punti[s, j]>sx[r]) and (punti[s, j]<dx[r])):\n",
    "                        a[r, j] = True      \n",
    "        for i in range(0, n*M): \n",
    "            for t in range(0, n): \n",
    "                if (punti[i, j]==points[t, j]):\n",
    "                    break\n",
    "                else:\n",
    "                    for k in range(0,n*M):\n",
    "                        if ((punti[i, j]>sx[k]) and (punti[i, j]<dx[k]) and (points[t, j]>sx[k]) and (points[t, j]<dx[k])):                      \n",
    "                            for h in range(0, n*M):\n",
    "                                if (a[h, j]==False):\n",
    "                                    a[h, j]=True\n",
    "                                    punti[i, j]=numpy.random.uniform(low=sx[h], high=dx[h])\n",
    "                                    break\n",
    "            ex_time += time.perf_counter() - start #<-------------------------------------------------------------------------\n",
    "        print(l/20)\n",
    "    ex_time /= n_test #<------------------------------------------------------------------------------\n",
    " \n",
    "    return ex_time"
   ]
  },
  {
   "cell_type": "code",
   "execution_count": null,
   "id": "218c2da8",
   "metadata": {},
   "outputs": [
    {
     "name": "stdout",
     "output_type": "stream",
     "text": [
      "0.0\n",
      "0.0\n",
      "0.0\n",
      "0.0\n",
      "0.0\n",
      "0.0\n",
      "0.0\n",
      "0.0\n",
      "0.0\n",
      "0.0\n",
      "0.05\n",
      "0.05\n",
      "0.05\n",
      "0.05\n",
      "0.05\n",
      "0.05\n",
      "0.05\n",
      "0.05\n",
      "0.05\n",
      "0.05\n",
      "0.1\n",
      "0.1\n",
      "0.1\n",
      "0.1\n",
      "0.1\n",
      "0.1\n",
      "0.1\n",
      "0.1\n",
      "0.1\n",
      "0.1\n",
      "0.15\n",
      "0.15\n",
      "0.15\n",
      "0.15\n",
      "0.15\n",
      "0.15\n",
      "0.15\n",
      "0.15\n",
      "0.15\n",
      "0.15\n"
     ]
    },
    {
     "ename": "KeyboardInterrupt",
     "evalue": "",
     "output_type": "error",
     "traceback": [
      "\u001b[0;31m---------------------------------------------------------------------------\u001b[0m",
      "\u001b[0;31mKeyboardInterrupt\u001b[0m                         Traceback (most recent call last)",
      "File \u001b[0;32m<timed exec>:4\u001b[0m\n",
      "Cell \u001b[0;32mIn[19], line 33\u001b[0m, in \u001b[0;36maddLHS\u001b[0;34m(points, M)\u001b[0m\n\u001b[1;32m     31\u001b[0m \u001b[38;5;28;01melse\u001b[39;00m:\n\u001b[1;32m     32\u001b[0m     \u001b[38;5;28;01mfor\u001b[39;00m k \u001b[38;5;129;01min\u001b[39;00m \u001b[38;5;28mrange\u001b[39m(\u001b[38;5;241m0\u001b[39m,n\u001b[38;5;241m*\u001b[39mM):\n\u001b[0;32m---> 33\u001b[0m         \u001b[38;5;28;01mif\u001b[39;00m ((punti[i, j]\u001b[38;5;241m>\u001b[39msx[k]) \u001b[38;5;129;01mand\u001b[39;00m (punti[i, j]\u001b[38;5;241m<\u001b[39mdx[k]) \u001b[38;5;129;01mand\u001b[39;00m (points[t, j]\u001b[38;5;241m>\u001b[39msx[k]) \u001b[38;5;129;01mand\u001b[39;00m (points[t, j]\u001b[38;5;241m<\u001b[39mdx[k])):                      \n\u001b[1;32m     34\u001b[0m             \u001b[38;5;28;01mfor\u001b[39;00m h \u001b[38;5;129;01min\u001b[39;00m \u001b[38;5;28mrange\u001b[39m(\u001b[38;5;241m0\u001b[39m, n\u001b[38;5;241m*\u001b[39mM):\n\u001b[1;32m     35\u001b[0m                 \u001b[38;5;28;01mif\u001b[39;00m (a[h, j]\u001b[38;5;241m==\u001b[39m\u001b[38;5;28;01mFalse\u001b[39;00m):\n",
      "\u001b[0;31mKeyboardInterrupt\u001b[0m: "
     ]
    }
   ],
   "source": [
    "%%time\n",
    "prova = []\n",
    "for l in range(q.shape[0]):\n",
    "    sample = LHS(n=q[l], p=2)\n",
    "    prova += [addLHS(sample, 2)]\n",
    "\n",
    "fig = plt.figure(figsize=(6,3))\n",
    "ax = fig.add_subplot(111)\n",
    "\n",
    "ax.plot(q, prova, label='replace')\n",
    "#ax.plot(n, ex_time_Vec, label='Vec')\n",
    "ax.set_xlabel(r'$n_{points}$')\n",
    "ax.set_ylabel(r'$time\\,\\,[s]$')\n",
    "ax.set_title(f'Mean execution time over {n_test} tests')\n",
    "ax.semilogx()\n",
    "ax.semilogy()\n",
    "ax.legend()"
   ]
  },
  {
   "cell_type": "code",
   "execution_count": null,
   "id": "d17bcd55",
   "metadata": {},
   "outputs": [],
   "source": [
    "def addLHS1(points, M):\n",
    "    ex_time = numpy.zeros(q.shape[0])\n",
    "    n = points.shape[0]\n",
    "    p = points.shape[1]\n",
    "    \n",
    "    sx = numpy.arange(0, n*M)/(n*M)\n",
    "    dx = numpy.arange(1, n*M+1)/(n*M)\n",
    "    \n",
    "    bol = zeros((n*M, p)) #matrice i cui elementi sono True o False a seconda se la riga o la colonna è occupata\n",
    "\n",
    "    punti = zeros((n*M, p)) #nuova matrice dei punti\n",
    "    \n",
    "    #riempimento nuova matrice dei punti: da 0 a n-1 è point da n a n*M è 0\n",
    "\n",
    "    punti[0:n, :] = points[0:n, :]\n",
    "    start = time.time(6)        \n",
    "    for j in range(0, p):\n",
    "        bol[0:n*M, j] = False\n",
    "        for i in range(n, n*M):\n",
    "            for k in range(0, n*M): #controllo colonne e righe\n",
    "                if (bol[k, j]==False):\n",
    "                    for s in range(0, n*M): #controllo entrate da 0 a n*M di punti\n",
    "                        if((punti[s,j]>sx[k]) and (punti[s, j]<dx[k])): #se il punto è nella kappesima colonna o riga allora la kappesima entrata di bol diventa True\n",
    "                            bol[k, j] = True\n",
    "            for t in range(0, n*M): #inserimento punti nelle colonne o righe vuote\n",
    "                if (bol[t, j]==False): #se la t-esima colonna o riga è vuota genera un punto in quella\n",
    "                    bol[t, j] = True\n",
    "                    punti[i, j] = numpy.random.uniform(low=sx[t], high=dx[t]) #genera un punto che sia nella colonna o riga vuota e poi passa all'entrata di punti successiva\n",
    "                    break\n",
    "                    \n",
    "    for j in range(p):\n",
    "        numpy.random.shuffle(punti[n:n*M, j])\n",
    "        \n",
    "    return punti              "
   ]
  },
  {
   "cell_type": "code",
   "execution_count": null,
   "id": "44057d0a",
   "metadata": {},
   "outputs": [
    {
     "data": {
      "image/png": "[encoded data removed]",
      "text/plain": [
       "<Figure size 600x600 with 1 Axes>"
      ]
     },
     "metadata": {},
     "output_type": "display_data"
    },
    {
     "name": "stdout",
     "output_type": "stream",
     "text": [
      "Wall time: 257 ms\n"
     ]
    }
   ],
   "source": [
    "%%time\n",
    "prova1 = addLHS1(sample, 2)\n",
    "plt.figure(figsize=[6, 6])\n",
    "plt.xlim([0, 1])\n",
    "plt.ylim([0, 1])\n",
    "plt.scatter(prova1[0:4, 0], prova1[0:4, 1], c='r')\n",
    "plt.scatter(prova1[4:4*2, 0], prova1[4:4*2, 1], c='b')\n",
    "\n",
    "for i in numpy.arange(0, 1, 1/8):\n",
    "    plt.axvline(i)\n",
    "    plt.axhline(i)\n",
    "\n",
    "plt.show()"
   ]
  },
  {
   "cell_type": "code",
   "execution_count": null,
   "id": "1c853574",
   "metadata": {},
   "outputs": [],
   "source": [
    "#\\usepackaging[eulermath, pdfspacing]{classicthesis}"
   ]
  },
  {
   "cell_type": "code",
   "execution_count": null,
   "id": "4abbd82d",
   "metadata": {},
   "outputs": [],
   "source": [
    "def SLHS(n, p, T):\n",
    "    # step 1: genero la lista LHS_k le cui entrate sono slices, ovvero LH di dimensione m*p\n",
    "    \n",
    "    m = int(n/T)\n",
    "    \n",
    "    LHS_k = []\n",
    "    \n",
    "    for _ in range(0, T):\n",
    "        slices = LHS_1.random(m)\n",
    "        LHS_k.append(slices)\n",
    "        \n",
    "    #step 2: divido lo spazio in m intervalli e controllo in quali di essi si trovano i punti generati assegnandogli un indice. Creo le matrici A_k contenente gli indici \n",
    "    \n",
    "    sx = numpy.arange(0, m)/(m)\n",
    "    dx = numpy.arange(1, m+1)/(m)\n",
    "    \n",
    "    M = []\n",
    "    A_k=zeros((m, p))\n",
    "    \n",
    "    for t in range (0, T):\n",
    "        M.append(A_k)\n",
    "        \n",
    "    for t in range (0, T):\n",
    "        for i in range(0, m):\n",
    "            for j in range(0, p):\n",
    "                for k in range(0, m):\n",
    "                    if ((LHS_k[t][i,j]>sx[k]) & (LHS_k[t][i,j]<dx[k])):\n",
    "                        A_k[i, j] = k\n",
    "        M[t] = numpy.copy(A_k)\n",
    "        \n",
    "    L = numpy.vstack(M)\n",
    "    \n",
    "    #step 3: trovo tutti gli elementi uguali nelle colonne di L e li sostituisco con una permutazione di interi {(q-1)*T+1,...,q*T}\n",
    "    \n",
    "    new_index = zeros((n, p))\n",
    "    \n",
    "    for j in range(p): #ciclo sulle dimensioni\n",
    "        for q in range(m): #ciclo sugli indici di colonna : passa uno per uno i vecchi indici\n",
    "            perm = numpy.arange(q*T, (q+1)*T) \n",
    "            numpy.random.shuffle(perm)\n",
    "            t = 0\n",
    "            for i in range(n):  \n",
    "                if (L[i, j] == q):\n",
    "                    new_index[i, j] = perm[t]\n",
    "                    t = t+1\n",
    "    \n",
    "    #step 4 : genero dei punti casualmente nei riquadri indicati dalla matrice new_index\n",
    "    \n",
    "    sx = numpy.arange(0, n)/(n)\n",
    "    dx = numpy.arange(1, n+1)/(n)\n",
    "    \n",
    "    slices_LHS = zeros((n, p))\n",
    "            \n",
    "    for j in range(p):\n",
    "        for i in range(n):\n",
    "            slices_LHS[i, j] = numpy.random.uniform(low=sx[int(new_index[i, j])], high = dx[int(new_index[i, j])])\n",
    "    \n",
    "    return slices_LHS"
   ]
  },
  {
   "cell_type": "code",
   "execution_count": null,
   "id": "7e1dd1ab",
   "metadata": {},
   "outputs": [
    {
     "ename": "NameError",
     "evalue": "name 'a' is not defined",
     "output_type": "error",
     "traceback": [
      "\u001b[1;31m---------------------------------------------------------------------------\u001b[0m",
      "\u001b[1;31mNameError\u001b[0m                                 Traceback (most recent call last)",
      "\u001b[1;32m~\\AppData\\Local\\Temp\\ipykernel_15044\\1189138062.py\u001b[0m in \u001b[0;36m<module>\u001b[1;34m\u001b[0m\n\u001b[1;32m----> 1\u001b[1;33m \u001b[0mprint\u001b[0m\u001b[1;33m(\u001b[0m\u001b[0ma\u001b[0m\u001b[1;33m)\u001b[0m\u001b[1;33m\u001b[0m\u001b[1;33m\u001b[0m\u001b[0m\n\u001b[0m",
      "\u001b[1;31mNameError\u001b[0m: name 'a' is not defined"
     ]
    }
   ],
   "source": [
    "print(a)"
   ]
  },
  {
   "cell_type": "code",
   "execution_count": null,
   "id": "c99e5808",
   "metadata": {},
   "outputs": [
    {
     "data": {
      "image/png": "[encoded data removed]",
      "text/plain": [
       "<Figure size 600x600 with 1 Axes>"
      ]
     },
     "metadata": {},
     "output_type": "display_data"
    }
   ],
   "source": [
    "a = SLHS(6, 2, 3)\n",
    "plt.figure(figsize=[6, 6])\n",
    "plt.xlim([0, 1])\n",
    "plt.ylim([0, 1])\n",
    "plt.scatter(a[:, 0], a[:, 1], c='r')\n",
    "\n",
    "for i in numpy.arange(0, 1, 1/6):\n",
    "    plt.axvline(i)\n",
    "    plt.axhline(i)\n",
    "\n",
    "plt.show()"
   ]
  },
  {
   "cell_type": "code",
   "execution_count": null,
   "id": "d7de5ec0",
   "metadata": {},
   "outputs": [
    {
     "name": "stdout",
     "output_type": "stream",
     "text": [
      "[[0.21786736 0.5606887 ]\n",
      " [0.62358589 0.37111349]\n",
      " [0.96638345 0.7043611 ]\n",
      " [0.01722387 0.30487978]\n",
      " [0.81870653 0.87320906]\n",
      " [0.47323825 0.07727321]]\n"
     ]
    }
   ],
   "source": [
    "print(a) #dx"
   ]
  },
  {
   "cell_type": "code",
   "execution_count": null,
   "id": "ef0ebb22",
   "metadata": {},
   "outputs": [
    {
     "name": "stdout",
     "output_type": "stream",
     "text": [
      "[[0.21786736 0.5606887 ]\n",
      " [0.62358589 0.37111349]\n",
      " [0.96638345 0.7043611 ]\n",
      " [0.01722387 0.30487978]\n",
      " [0.81870653 0.87320906]\n",
      " [0.47323825 0.07727321]]\n"
     ]
    }
   ],
   "source": [
    "print(a) #slices"
   ]
  },
  {
   "cell_type": "code",
   "execution_count": null,
   "id": "845cdb20",
   "metadata": {},
   "outputs": [
    {
     "name": "stdout",
     "output_type": "stream",
     "text": [
      "[[0.21786736 0.5606887 ]\n",
      " [0.62358589 0.37111349]\n",
      " [0.96638345 0.7043611 ]\n",
      " [0.01722387 0.30487978]\n",
      " [0.81870653 0.87320906]\n",
      " [0.47323825 0.07727321]]\n"
     ]
    }
   ],
   "source": [
    "print(a) #L"
   ]
  },
  {
   "cell_type": "code",
   "execution_count": null,
   "id": "76a3d0ba",
   "metadata": {},
   "outputs": [
    {
     "name": "stdout",
     "output_type": "stream",
     "text": [
      "[[0.21786736 0.5606887 ]\n",
      " [0.62358589 0.37111349]\n",
      " [0.96638345 0.7043611 ]\n",
      " [0.01722387 0.30487978]\n",
      " [0.81870653 0.87320906]\n",
      " [0.47323825 0.07727321]]\n"
     ]
    }
   ],
   "source": [
    "print(a)"
   ]
  },
  {
   "cell_type": "code",
   "execution_count": null,
   "id": "df7bbe35",
   "metadata": {},
   "outputs": [],
   "source": [
    "def lhs_in_LHS(points, M):\n",
    "    n = points.shape[0]\n",
    "    p = points.shape[1]\n",
    "    \n",
    "    sx = [numpy.arange(0, n*M)/(n*M) for _ in range(p)]\n",
    "    dx = [numpy.arange(1, n*M+1)/(n*M) for _ in range(p)]\n",
    "    \n",
    "    index = [[] for _ in range(0, p)] #matrice che contiene gli indici delle colonne o righe occupate\n",
    "\n",
    "    punti = zeros((n*M, p)) #nuova matrice dei punti\n",
    "    \n",
    "    for i in range(0, n): #riempimento della nuova matrice\n",
    "        punti[i, :] = points[i, :]\n",
    "    \n",
    "    for j in range (0, p):\n",
    "        for k in range(0, n*M): #controllo le righe o colonne\n",
    "            for i in range(0, n*M): #controllo i punti\n",
    "                if ((punti[i, j] > sx[j][k]) & (punti[i, j] < dx[j][k])):\n",
    "                    index[j].append(k)\n",
    "    \n",
    "\n",
    "    sx = numpy.delete(sx, index)\n",
    "    dx = numpy.delete(dx, index)\n",
    "            \n",
    "    return index"
   ]
  },
  {
   "cell_type": "code",
   "execution_count": null,
   "id": "4f8b541a",
   "metadata": {},
   "outputs": [
    {
     "data": {
      "text/plain": [
       "[[0, 2, 5, 6, 8, 10, 13, 14, 16, 18], [0, 2, 5, 7, 8, 11, 13, 15, 17, 19]]"
      ]
     },
     "execution_count": 22,
     "metadata": {},
     "output_type": "execute_result"
    }
   ],
   "source": [
    "w = lhs_in_LHS(sample, 2)\n",
    "w"
   ]
  },
  {
   "cell_type": "code",
   "execution_count": null,
   "id": "05bac16b",
   "metadata": {},
   "outputs": [
    {
     "name": "stdout",
     "output_type": "stream",
     "text": [
      "[4 0 3 2 5 1]\n",
      "[11 10  8  9  6  7]\n",
      "[13 16 15 14 12 17]\n",
      "[21 20 22 19 23 18]\n"
     ]
    }
   ],
   "source": [
    "T = 6\n",
    "for q in range(4):\n",
    "    perm = numpy.arange(q*T, (q+1)*T)\n",
    "    numpy.random.shuffle(perm)\n",
    "    print(perm)"
   ]
  },
  {
   "cell_type": "code",
   "execution_count": null,
   "id": "5af8f2d7",
   "metadata": {},
   "outputs": [
    {
     "name": "stdout",
     "output_type": "stream",
     "text": [
      "[ 1  3  6  7  9 10]\n",
      "[0 2 5 6 8 9]\n",
      "[1, 3, 4, 7]\n"
     ]
    }
   ],
   "source": [
    "sx = numpy.arange(0, 10)\n",
    "dx = numpy.arange(1, 11)\n",
    "\n",
    "a = numpy.array([1.4 , 3.7 , 7.1 , 4.2 , 0, 0, 0, 0, 0, 0])\n",
    "\n",
    "index = []\n",
    "\n",
    "for i in range(0, 10):\n",
    "    for j in range(0, 10):\n",
    "        if ((a[j] > sx[i]) & (a[j] < dx[i])):\n",
    "            index.append(i)\n",
    "                \n",
    "sx = numpy.delete(sx, index)\n",
    "dx = numpy.delete(dx, index)\n",
    "\n",
    "print(dx)\n",
    "print(sx)\n",
    "print(index)"
   ]
  },
  {
   "cell_type": "code",
   "execution_count": null,
   "id": "c863cd46",
   "metadata": {},
   "outputs": [
    {
     "data": {
      "text/plain": [
       "array([ 8,  5,  2,  4, 10,  9, 11, 12, 14,  0,  1,  6,  3,  7, 13])"
      ]
     },
     "execution_count": 25,
     "metadata": {},
     "output_type": "execute_result"
    }
   ],
   "source": [
    "b = numpy.arange(0, 15)\n",
    "a = numpy.random.shuffle(b)\n",
    "b"
   ]
  }
 ],
 "metadata": {
  "kernelspec": {
   "display_name": "Python 3 (ipykernel)",
   "language": "python",
   "name": "python3"
  },
  "language_info": {
   "codemirror_mode": {
    "name": "ipython",
    "version": 3
   },
   "file_extension": ".py",
   "mimetype": "text/x-python",
   "name": "python",
   "nbconvert_exporter": "python",
   "pygments_lexer": "ipython3",
   "version": "3.11.4"
  }
 },
 "nbformat": 4,
 "nbformat_minor": 5
}
