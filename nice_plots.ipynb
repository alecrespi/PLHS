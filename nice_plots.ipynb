{
 "cells": [
  {
   "cell_type": "code",
   "execution_count": 236,
   "metadata": {},
   "outputs": [],
   "source": [
    "import matplotlib.pyplot as plt\n",
    "from mpl_toolkits.mplot3d.art3d import Poly3DCollection\n",
    "import numpy as np\n",
    "import ipywidgets as ws \n",
    "from matplotlib.animation import FuncAnimation"
   ]
  },
  {
   "cell_type": "code",
   "execution_count": 237,
   "metadata": {},
   "outputs": [],
   "source": [
    "def square_vertices(x, y, z, w = 1):\n",
    "    #shifting vectors\n",
    "    dx = np.array([w, 0, 0])\n",
    "    dy = np.array([0, w, 0])\n",
    "    dz = np.array([0, 0, w])\n",
    "\n",
    "    #origin\n",
    "    o = np.array([x, y, z]) * w\n",
    "\n",
    "    return np.array([\n",
    "        o,\n",
    "        o + dx,\n",
    "        o + dx + dy,\n",
    "        o + dy,\n",
    "        o + dz,\n",
    "        o + dx + dz,\n",
    "        o + dx + dy + dz,\n",
    "        o + dy + dz\n",
    "    ]).tolist()\n"
   ]
  },
  {
   "cell_type": "code",
   "execution_count": 202,
   "metadata": {},
   "outputs": [],
   "source": [
    "\n",
    "def render_space(subplot, N):\n",
    "    # Define vertices\n",
    "    vs = []\n",
    "    for x in range(N):\n",
    "        for y in range(N):\n",
    "            for z in range(N):\n",
    "                vs.append(square_vertices(x, y, z, w = 1/N))\n",
    "\n",
    "    # Define the six faces for each cube\n",
    "    cubes_faces = []\n",
    "    for v in vs:\n",
    "        cubes_faces.append([\n",
    "        [v[j] for j in [0, 1, 2, 3]],  # bottom\n",
    "        [v[j] for j in [4, 5, 6, 7]],  # top\n",
    "        [v[j] for j in [0, 1, 5, 4]],  # front\n",
    "        [v[j] for j in [2, 3, 7, 6]],  # back\n",
    "        [v[j] for j in [1, 2, 6, 5]],  # right\n",
    "        [v[j] for j in [0, 3, 7, 4]]   # left\n",
    "    ])\n",
    "\n",
    "    # Draw the cube\n",
    "    for faces in cubes_faces:\n",
    "        subplot.add_collection3d(Poly3DCollection(faces, facecolors='#ffffff', linewidths=.1, edgecolors='r', alpha=.0))\n",
    "\n",
    "def xspan(subplot, a, b, color = \"green\", alpha=.1):\n",
    "    faces = [\n",
    "        [[a, 0, 0], [b, 0, 0], [b, 1, 0], [a, 1, 0]],  # bottom\n",
    "        [[a, 0, 1], [b, 0, 1], [b, 1, 1], [a, 1, 1]],  # top\n",
    "        [[a, 0, 0], [b, 0, 0], [b, 0, 1], [a, 0, 1]],  # front\n",
    "        [[a, 1, 0], [b, 1, 0], [b, 1, 1], [a, 1, 1]],  # back\n",
    "        [[a, 0, 0], [a, 0, 1], [a, 1, 1], [a, 1, 0]],  # left\n",
    "        [[b, 0, 0], [b, 0, 1], [b, 1, 1], [b, 1, 0]]   # right\n",
    "    ]\n",
    "    if subplot != None:\n",
    "        subplot.add_collection3d(Poly3DCollection(faces, facecolors=color, linewidths=.0, edgecolors=color, alpha=alpha))\n",
    "    return faces\n",
    "\n",
    "def yspan(subplot, a, b, color = \"green\", alpha=.1):\n",
    "    # xs = np.array(xspan(subplot=None, a=a, b=b))\n",
    "    # faces = [ \n",
    "    #     [ np.dot(vx, [[0, -1, 0],[1, 0, 0],[0, 0, 1]]) + [0, (b - a),0] for vx in facex ] \n",
    "    #     for facex in xs\n",
    "    # ]\n",
    "    faces = [\n",
    "        [[0, a, 0], [0, b, 0], [1, b, 0], [1, a, 0]],  # bottom\n",
    "        [[0, a, 1], [0, b, 1], [1, b, 1], [1, a, 1]],  # top\n",
    "        [[0, a, 0], [0, b, 0], [0, b, 1], [0, a, 1]],  # front\n",
    "        [[1, a, 0], [1, b, 0], [1, b, 1], [1, a, 1]],  # back\n",
    "        [[0, b, 0], [0, b, 1], [1, b, 1], [1, b, 0]],  # left\n",
    "        [[0, a, 0], [0, a, 1], [1, a, 1], [1, a, 0]]   # right\n",
    "    ]\n",
    "    \n",
    "    if subplot != None:\n",
    "        subplot.add_collection3d(Poly3DCollection(faces, facecolors=color, linewidths=.0, edgecolors=color, alpha=alpha))\n",
    "    return faces\n",
    "\n",
    "def zspan(subplot, a, b, color = \"green\", alpha=.1):\n",
    "    faces = [\n",
    "        [[0, 0, a], [0, 0, b], [1, 0, b], [1, 0, a]],  # bottom\n",
    "        [[0, 1, a], [0, 1, b], [1, 1, b], [1, 1, a]],  # top\n",
    "        [[0, 0, a], [0, 0, b], [0, 1, b], [0, 1, a]],  # front\n",
    "        [[1, 0, a], [1, 0, b], [1, 1, b], [1, 1, a]],  # back\n",
    "        [[0, 0, b], [0, 1, b], [1, 1, b], [1, 0, b]],  # left\n",
    "        [[0, 0, a], [0, 1, a], [1, 1, a], [1, 0, a]]   # right\n",
    "    ]\n",
    "    \n",
    "    if subplot != None:\n",
    "        subplot.add_collection3d(Poly3DCollection(faces, facecolors=color, linewidths=.0, edgecolors=color, alpha=alpha))\n",
    "    return faces\n"
   ]
  },
  {
   "cell_type": "code",
   "execution_count": 241,
   "metadata": {},
   "outputs": [
    {
     "data": {
      "application/vnd.jupyter.widget-view+json": {
       "model_id": "c51384e33efb4c62afc2e42744fa3c8a",
       "version_major": 2,
       "version_minor": 0
      },
      "text/plain": [
       "interactive(children=(IntSlider(value=25, description='Elevation:', max=180, min=-180), IntSlider(value=-150, …"
      ]
     },
     "metadata": {},
     "output_type": "display_data"
    }
   ],
   "source": [
    "\n",
    "def plot3dLHS(elev=25, azim=-150):\n",
    "    elevSlider = ws.IntSlider(\n",
    "        value=elev,\n",
    "        min=-180,\n",
    "        max=180,\n",
    "        step=1,\n",
    "        description='Elevation:'\n",
    "    )\n",
    "    azimSlider = ws.IntSlider(\n",
    "        value=azim,\n",
    "        min=-180,\n",
    "        max=180,\n",
    "        step=1,\n",
    "        description='Azimuth:'\n",
    "    )\n",
    "\n",
    "    N = 3\n",
    "    def livePlot(elev, azim):\n",
    "        fig = plt.figure()\n",
    "        ax = fig.add_subplot(111, projection='3d')\n",
    "\n",
    "        # xspan(ax, 1/N, 2/N, \"red\", .1)\n",
    "        # yspan(ax, 1/N, 2/N, \"blue\", .1)\n",
    "        # zspan(ax, 1/N, 2/N, \"green\", .1)\n",
    "        render_space(ax, N)\n",
    "\n",
    "        # Remove the grid\n",
    "        ax.grid(False)\n",
    "\n",
    "        # Remove the numbers on the axes\n",
    "        ax.set_xticks(np.linspace(0,1, N+1))\n",
    "        ax.set_yticks(np.linspace(0,1, N+1))\n",
    "        ax.set_zticks(np.linspace(0,1, N+1))\n",
    "        ax.set_xlabel('X')\n",
    "        ax.set_ylabel('Y')\n",
    "        ax.set_zlabel('Z')\n",
    "\n",
    "        ax.scatter([0.1], [0.1])\n",
    "\n",
    "        ax.view_init(elev=elev, azim=azim)\n",
    "\n",
    "        ax.view_init(elev=elevSlider.value, azim=azimSlider.value)\n",
    "        plt.show()\n",
    "    \n",
    "    # plt.show()\n",
    "    ws.interact(livePlot, elev=elevSlider, azim=azimSlider)\n",
    "\n",
    "plot3dLHS(elev=25, azim=-150)\n"
   ]
  },
  {
   "cell_type": "code",
   "execution_count": 242,
   "metadata": {},
   "outputs": [],
   "source": [
    "from pythreejs import *\n",
    "from IPython.display import display\n",
    "# Materials\n",
    "mat = MeshStandardMaterial(color='#ff0000')\n",
    "mat_green = MeshStandardMaterial(color='#00ff00')\n",
    "mat_blue = MeshStandardMaterial(color='#0000ff')\n",
    "# Geometries\n",
    "torus = TorusGeometry(radius=12, tube=3, radialSegments=16, tubularSegments=100)\n",
    "sphere = SphereGeometry(radius=12, _flat=False, widthSegments=8, heightSegments=6)\n",
    "cube = BoxGeometry(1,1,1)"
   ]
  },
  {
   "cell_type": "code",
   "execution_count": 243,
   "metadata": {},
   "outputs": [
    {
     "data": {
      "application/vnd.jupyter.widget-view+json": {
       "model_id": "8c7e0a053b0f4e9586871f17dfe6bd93",
       "version_major": 2,
       "version_minor": 0
      },
      "text/plain": [
       "SphereGeometry(radius=12.0)"
      ]
     },
     "execution_count": 243,
     "metadata": {},
     "output_type": "execute_result"
    }
   ],
   "source": [
    "sphere"
   ]
  },
  {
   "cell_type": "code",
   "execution_count": 244,
   "metadata": {},
   "outputs": [
    {
     "data": {
      "application/vnd.jupyter.widget-view+json": {
       "model_id": "ed84eded02804f93b56647e5ec868133",
       "version_major": 2,
       "version_minor": 0
      },
      "text/plain": [
       "BoxGeometry()"
      ]
     },
     "execution_count": 244,
     "metadata": {},
     "output_type": "execute_result"
    }
   ],
   "source": [
    "cube"
   ]
  },
  {
   "cell_type": "code",
   "execution_count": 245,
   "metadata": {},
   "outputs": [
    {
     "data": {
      "application/vnd.jupyter.widget-view+json": {
       "model_id": "065adde9adb74e3d86c9fec22f81003b",
       "version_major": 2,
       "version_minor": 0
      },
      "text/plain": [
       "TorusGeometry(radialSegments=16, radius=12.0, tube=3.0, tubularSegments=100)"
      ]
     },
     "execution_count": 245,
     "metadata": {},
     "output_type": "execute_result"
    }
   ],
   "source": [
    "torus"
   ]
  }
 ],
 "metadata": {
  "kernelspec": {
   "display_name": "lab",
   "language": "python",
   "name": "python3"
  },
  "language_info": {
   "codemirror_mode": {
    "name": "ipython",
    "version": 3
   },
   "file_extension": ".py",
   "mimetype": "text/x-python",
   "name": "python",
   "nbconvert_exporter": "python",
   "pygments_lexer": "ipython3",
   "version": "3.11.4"
  }
 },
 "nbformat": 4,
 "nbformat_minor": 2
}
