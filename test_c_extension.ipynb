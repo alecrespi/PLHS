{
 "cells": [
  {
   "cell_type": "code",
   "execution_count": 121,
   "metadata": {},
   "outputs": [],
   "source": [
    "from latinexpansion import eLHS, grade\n",
    "import numpy as np\n",
    "from scipy.stats.qmc import LatinHypercube as LHSSampler\n",
    "from src.fancyplotter import usePlotSampleSet, SampleSetPlot\n",
    "from src.eLHS_old import grade as grade_old\n",
    "from src.utils import concat\n",
    "\n",
    "LHS = LHSSampler(d=2)\n",
    "err = 1e-9"
   ]
  },
  {
   "cell_type": "code",
   "execution_count": 122,
   "metadata": {},
   "outputs": [],
   "source": [
    "# init_gr_M = gr(S, M) where S is an LHS(N, P)\n",
    "\n",
    "N, M, P = 1000, 2, 10\n",
    "LHS1 = LHSSampler(d=P)\n",
    "ss1 = LHS1.random(N)\n",
    "predicted_exp_gr = grade(ss1, M) + M/(N+M)\n",
    "\n",
    "s=40\n",
    "multiplot = usePlotSampleSet([], Ntot=N + M, grid=False, interval_labels=True)\n",
    "monoplot = usePlotSampleSet(ss1, s=s, m=\"x\", c=\"green\", grid=True, highlight=True, interval_labels=True)\n",
    "# monoplot()"
   ]
  },
  {
   "cell_type": "markdown",
   "metadata": {},
   "source": [
    "### Testing eLHS"
   ]
  },
  {
   "cell_type": "code",
   "execution_count": 123,
   "metadata": {},
   "outputs": [
    {
     "name": "stdout",
     "output_type": "stream",
     "text": [
      "Grade prediction test:  ✅ 0.8309381237524951 0.830938123752495\n"
     ]
    }
   ],
   "source": [
    "res1 = np.array(eLHS(ss1, M))\n",
    "expansion1 = concat(res1, ss1)\n",
    "exp_gr = grade(expansion1)\n",
    "print(\"Grade prediction test: \", \"✅\" if abs(predicted_exp_gr - exp_gr) < err else \"❌\", predicted_exp_gr, exp_gr)"
   ]
  },
  {
   "cell_type": "code",
   "execution_count": 124,
   "metadata": {},
   "outputs": [
    {
     "ename": "ValueError",
     "evalue": "Invalid bidimensional sample set dimension. points.shape[1] must be equal to 2.",
     "output_type": "error",
     "traceback": [
      "\u001b[0;31m---------------------------------------------------------------------------\u001b[0m",
      "\u001b[0;31mValueError\u001b[0m                                Traceback (most recent call last)",
      "Cell \u001b[0;32mIn[124], line 3\u001b[0m\n\u001b[1;32m      1\u001b[0m ha \u001b[38;5;241m=\u001b[39m \u001b[38;5;241m0.125\u001b[39m\n\u001b[1;32m      2\u001b[0m multiplot([\n\u001b[0;32m----> 3\u001b[0m     SampleSetPlot(\n\u001b[1;32m      4\u001b[0m         ss1, c\u001b[38;5;241m=\u001b[39m\u001b[38;5;124m\"\u001b[39m\u001b[38;5;124mgreen\u001b[39m\u001b[38;5;124m\"\u001b[39m, m\u001b[38;5;241m=\u001b[39m\u001b[38;5;124m\"\u001b[39m\u001b[38;5;124mx\u001b[39m\u001b[38;5;124m\"\u001b[39m, s\u001b[38;5;241m=\u001b[39ms,\n\u001b[1;32m      5\u001b[0m         highlight\u001b[38;5;241m=\u001b[39m\u001b[38;5;28;01mTrue\u001b[39;00m, highlight_c\u001b[38;5;241m=\u001b[39m\u001b[38;5;124m\"\u001b[39m\u001b[38;5;124mblue\u001b[39m\u001b[38;5;124m\"\u001b[39m, highlight_a\u001b[38;5;241m=\u001b[39mha,\n\u001b[1;32m      6\u001b[0m         overlaps\u001b[38;5;241m=\u001b[39m\u001b[38;5;28;01mFalse\u001b[39;00m, overlaps_c\u001b[38;5;241m=\u001b[39m\u001b[38;5;124m\"\u001b[39m\u001b[38;5;124mred\u001b[39m\u001b[38;5;124m\"\u001b[39m, overlaps_a\u001b[38;5;241m=\u001b[39m\u001b[38;5;241m.15\u001b[39m,\n\u001b[1;32m      7\u001b[0m         voids\u001b[38;5;241m=\u001b[39m\u001b[38;5;28;01mFalse\u001b[39;00m, voids_c\u001b[38;5;241m=\u001b[39m\u001b[38;5;124m\"\u001b[39m\u001b[38;5;124mgreen\u001b[39m\u001b[38;5;124m\"\u001b[39m, voids_a\u001b[38;5;241m=\u001b[39m\u001b[38;5;241m.15\u001b[39m),\n\u001b[1;32m      8\u001b[0m     SampleSetPlot(\n\u001b[1;32m      9\u001b[0m         res1, c\u001b[38;5;241m=\u001b[39m\u001b[38;5;124m\"\u001b[39m\u001b[38;5;124mred\u001b[39m\u001b[38;5;124m\"\u001b[39m, m\u001b[38;5;241m=\u001b[39m\u001b[38;5;124m\"\u001b[39m\u001b[38;5;124mv\u001b[39m\u001b[38;5;124m\"\u001b[39m ,s\u001b[38;5;241m=\u001b[39ms,\n\u001b[1;32m     10\u001b[0m         highlight\u001b[38;5;241m=\u001b[39m\u001b[38;5;28;01mTrue\u001b[39;00m, highlight_a\u001b[38;5;241m=\u001b[39mha,\n\u001b[1;32m     11\u001b[0m         overlaps\u001b[38;5;241m=\u001b[39m\u001b[38;5;28;01mFalse\u001b[39;00m, overlaps_c\u001b[38;5;241m=\u001b[39m\u001b[38;5;124m\"\u001b[39m\u001b[38;5;124mred\u001b[39m\u001b[38;5;124m\"\u001b[39m, overlaps_a\u001b[38;5;241m=\u001b[39m\u001b[38;5;241m.15\u001b[39m,\n\u001b[1;32m     12\u001b[0m         voids\u001b[38;5;241m=\u001b[39m\u001b[38;5;28;01mFalse\u001b[39;00m, voids_c\u001b[38;5;241m=\u001b[39m\u001b[38;5;124m\"\u001b[39m\u001b[38;5;124mgreen\u001b[39m\u001b[38;5;124m\"\u001b[39m, voids_a\u001b[38;5;241m=\u001b[39m\u001b[38;5;241m.15\u001b[39m)\n\u001b[1;32m     13\u001b[0m     ], Ntot\u001b[38;5;241m=\u001b[39mN\u001b[38;5;241m+\u001b[39mM, exclusive_labels\u001b[38;5;241m=\u001b[39m\u001b[38;5;28;01mFalse\u001b[39;00m, grid\u001b[38;5;241m=\u001b[39m\u001b[38;5;28;01mTrue\u001b[39;00m,\n\u001b[1;32m     14\u001b[0m     save\u001b[38;5;241m=\u001b[39m\u001b[38;5;28;01mFalse\u001b[39;00m, filepath\u001b[38;5;241m=\u001b[39m\u001b[38;5;124m\"\u001b[39m\u001b[38;5;124m./DOCS/src/imgs/DELETE.png\u001b[39m\u001b[38;5;124m\"\u001b[39m)\n",
      "File \u001b[0;32m~/Projects/~LAB/Thesis/src/fancyplotter.py:22\u001b[0m, in \u001b[0;36mSampleSetPlot.__init__\u001b[0;34m(self, points, c, s, m, highlight, highlight_c, highlight_a, overlaps, overlaps_c, overlaps_a, voids, voids_c, voids_a)\u001b[0m\n\u001b[1;32m     20\u001b[0m \u001b[38;5;28mself\u001b[39m\u001b[38;5;241m.\u001b[39m_ovs \u001b[38;5;241m=\u001b[39m \u001b[38;5;28;01mNone\u001b[39;00m\n\u001b[1;32m     21\u001b[0m \u001b[38;5;28;01mif\u001b[39;00m \u001b[38;5;28mself\u001b[39m\u001b[38;5;241m.\u001b[39mP \u001b[38;5;241m!=\u001b[39m \u001b[38;5;241m2\u001b[39m:\n\u001b[0;32m---> 22\u001b[0m     \u001b[38;5;28;01mraise\u001b[39;00m \u001b[38;5;167;01mValueError\u001b[39;00m(\u001b[38;5;124m\"\u001b[39m\u001b[38;5;124mInvalid bidimensional sample set dimension. points.shape[1] must be equal to 2.\u001b[39m\u001b[38;5;124m\"\u001b[39m)\n",
      "\u001b[0;31mValueError\u001b[0m: Invalid bidimensional sample set dimension. points.shape[1] must be equal to 2."
     ]
    }
   ],
   "source": [
    "ha = 0.125\n",
    "multiplot([\n",
    "    SampleSetPlot(\n",
    "        ss1, c=\"green\", m=\"x\", s=s,\n",
    "        highlight=True, highlight_c=\"blue\", highlight_a=ha,\n",
    "        overlaps=False, overlaps_c=\"red\", overlaps_a=.15,\n",
    "        voids=False, voids_c=\"green\", voids_a=.15),\n",
    "    SampleSetPlot(\n",
    "        res1, c=\"red\", m=\"v\" ,s=s,\n",
    "        highlight=True, highlight_a=ha,\n",
    "        overlaps=False, overlaps_c=\"red\", overlaps_a=.15,\n",
    "        voids=False, voids_c=\"green\", voids_a=.15)\n",
    "    ], Ntot=N+M, exclusive_labels=False, grid=True,\n",
    "    save=False, filepath=\"./DOCS/src/imgs/DELETE.png\")"
   ]
  },
  {
   "cell_type": "markdown",
   "metadata": {},
   "source": [
    "### Testing grade calculation"
   ]
  },
  {
   "cell_type": "code",
   "execution_count": null,
   "metadata": {},
   "outputs": [
    {
     "name": "stdout",
     "output_type": "stream",
     "text": [
      "0.5666666666666667 0.5666666666666667 ✅\n"
     ]
    }
   ],
   "source": [
    "## grade experiments\n",
    "ss2 = LHS1.random(N)\n",
    "plotter2 = usePlotSampleSet(ss2, grid=True, highlight=True)\n",
    "# plotter2(Ntot=N+M)\n",
    "newgr = grade(ss2, M=M)\n",
    "oldgr = grade_old(ss2, n=N+M)\n",
    "print(newgr, oldgr, \"✅\" if newgr==oldgr else \"❌\")"
   ]
  }
 ],
 "metadata": {
  "kernelspec": {
   "display_name": "lab",
   "language": "python",
   "name": "python3"
  },
  "language_info": {
   "codemirror_mode": {
    "name": "ipython",
    "version": 3
   },
   "file_extension": ".py",
   "mimetype": "text/x-python",
   "name": "python",
   "nbconvert_exporter": "python",
   "pygments_lexer": "ipython3",
   "version": "3.11.4"
  }
 },
 "nbformat": 4,
 "nbformat_minor": 2
}
